{
 "cells": [
  {
   "cell_type": "markdown",
   "id": "ed27035d",
   "metadata": {},
   "source": [
    "\n",
    "<center>\n",
    "<H1><span style=\"text-align: center; font-weight: bold; color: #746bb3ff;\">Challenges avancés sur les dics et tuples</span></H1>\n",
    "</center>"
   ]
  },
  {
   "cell_type": "markdown",
   "id": "d37d1b79",
   "metadata": {},
   "source": [
    "### **Conseils pour résoudre les challenges :**\n",
    "- Testez avec des cas limites : dictionnaires vides, tuples vides, clés absentes, ou structures imbriquées complexes.\n",
    "- Utilisez `get()` ou `setdefault()` pour gérer les accès sécurisés aux dictionnaires.\n",
    "- Pour les tuples, rappelez-vous qu'ils sont immuables, donc toute transformation nécessite de créer de nouveaux tuples.\n",
    "- Assurez-vous que vos fonctions sont robustes face aux erreurs (par exemple, vérifier les types des entrées).\n"
   ]
  },
  {
   "cell_type": "markdown",
   "id": "28323bec",
   "metadata": {},
   "source": [
    "### **Challenge 1 : Fusion de dictionnaires avec mise à jour personnalisée**\n",
    "**Objectif** : Fusionner deux dictionnaires en appliquant une règle personnalisée pour gérer les clés communes.\n",
    "\n",
    "**Travail à faire** :  \n",
    "* Écrivez une fonction `fusionner_dictionnaires` qui prend deux dictionnaires et une fonction de fusion (par exemple, `lambda x, y: x + y` pour additionner les valeurs des clés communes). \n",
    " * La fonction doit retourner un nouveau dictionnaire contenant toutes les clés des deux dictionnaires, avec les valeurs des clés communes combinées via la fonction de fusion. \n",
    " * Testez avec deux dictionnaires et deux fonctions de fusion différentes (par exemple, addition et maximum).  \n",
    "* Exemple d'entrée : `dict1 = {'a': 1, 'b': 2}`, `dict2 = {'b': 3, 'c': 4}`, fonction `lambda x, y: x + y` → Résultat : `{'a': 1, 'b': 5, 'c': 4}`.\n",
    "\n",
    "**Fonctions à utiliser** :  \n",
    "- `items()` : Pour itérer sur les paires clé-valeur des dictionnaires.  \n",
    "- `setdefault()` : Pour gérer les clés absentes dans un dictionnaire.  \n",
    "- `update()` : Pour ajouter des paires clé-valeur au dictionnaire résultat. "
   ]
  },
  {
   "cell_type": "code",
   "execution_count": null,
   "id": "c6993596",
   "metadata": {},
   "outputs": [
    {
     "data": {
      "text/plain": [
       "{'a': 1, 'b': 5, 'c': 4}"
      ]
     },
     "execution_count": 30,
     "metadata": {},
     "output_type": "execute_result"
    }
   ],
   "source": [
    "#without those methods\n",
    "def fusionner_dictionnaires(dict1, dict2, f):\n",
    "    for x1,y1 in dict2.items():\n",
    "        if x1 in dict1:\n",
    "            dict1[x1] = f(dict1[x1],y1)\n",
    "        else:\n",
    "            dict1[x1] = dict2[x1] \n",
    "    return dict1\n",
    "\n",
    "#with\n",
    "def fusionner_dictionnaires2(dict1, dict2, f):\n",
    "    dict = {} \n",
    "    dict.update(dict1)\n",
    "    for x,y in dict2.items():\n",
    "        dict.setdefault(x,y)\n",
    "        if x in dict1:\n",
    "            dict[x] = f(dict1[x],y)\n",
    "    return dict\n",
    "\n",
    "fusionner_dictionnaires2({'a':1, 'b':2}, {'b':3, 'c': 4}, lambda x,y: x+y)\n"
   ]
  },
  {
   "cell_type": "markdown",
   "id": "bf45ff06",
   "metadata": {},
   "source": [
    "### **Challenge 2 : Filtrage de dictionnaire par valeurs**\n",
    "**Objectif** : Filtrer un dictionnaire selon un critère appliqué à ses valeurs.\n",
    "\n",
    "**Travail à faire** :  \n",
    "* Écrivez une fonction `filtrer_dictionnaire` qui prend un dictionnaire et une fonction de critère (par exemple, `lambda x: x > 10` pour garder les valeurs supérieures à 10). \n",
    "* La fonction doit retourner un nouveau dictionnaire contenant uniquement les paires clé-valeur où la valeur satisfait le critère. Testez avec deux critères différents (par exemple, \"valeur > 10\" et \"valeur est paire\").  \n",
    "* Exemple d'entrée : `{'a': 5, 'b': 12, 'c': 8, 'd': 15}` avec critère `lambda x: x > 10` → Résultat : `{'b': 12, 'd': 15}`.\n",
    "\n",
    "**Fonctions à utiliser** :  \n",
    "- `items()` : Pour itérer sur les paires clé-valeur.  \n",
    "- `filter()` : Pour appliquer le critère aux valeurs.  \n",
    "- `dict()` : Pour construire le dictionnaire résultat à partir des paires filtrées.  \n"
   ]
  },
  {
   "cell_type": "code",
   "execution_count": null,
   "id": "1d6705dd",
   "metadata": {},
   "outputs": [
    {
     "data": {
      "text/plain": [
       "{'b': 12, 'd': 15}"
      ]
     },
     "execution_count": 42,
     "metadata": {},
     "output_type": "execute_result"
    }
   ],
   "source": [
    "#without those methods\n",
    "def filtrer_dictionnaire(d,f):\n",
    "    for x in list(d.keys()):\n",
    "        if not f(d[x]):\n",
    "            del d[x]\n",
    "    return d\n",
    "\n",
    "#with\n",
    "\n",
    "def filtrer_dictionnaire2(d,f):\n",
    "    return dict(filter(lambda x: f(x[1]),d.items()))\n",
    "    \n",
    "\n",
    "filtrer_dictionnaire2({'a':5, 'b':12, 'c':8, 'd':15}, lambda x: x > 10)\n",
    "            "
   ]
  },
  {
   "cell_type": "markdown",
   "id": "013db6ff",
   "metadata": {},
   "source": [
    "### **Challenge 3 : Création de tuples à partir de dictionnaires**\n",
    "**Objectif** : Convertir un dictionnaire en une liste de tuples triés selon un critère.\n",
    "\n",
    "**Travail à faire** :  \n",
    "* Écrivez une fonction `dictionnaire_vers_tuples` qui prend un dictionnaire et une fonction de tri (par exemple, `lambda x: x[1]` pour trier par valeur). \n",
    "* La fonction doit retourner une liste de tuples (clé, valeur) triée selon la fonction de tri. Testez avec deux critères de tri (par exemple, tri par clé et tri par valeur).  \n",
    "* Exemple d'entrée : `{'a': 10, 'b': 5, 'c': 15}` avec tri par valeur → Résultat : `[('b', 5), ('a', 10), ('c', 15)]`.\n",
    "\n",
    "**Fonctions à utiliser** :  \n",
    "- `items()` : Pour obtenir les paires clé-valeur sous forme de tuples.  \n",
    "- `sorted()` : Pour trier les tuples selon le critère.  \n",
    "- `list()` : Pour convertir en liste si nécessaire.  \n"
   ]
  },
  {
   "cell_type": "code",
   "execution_count": 46,
   "id": "263d3ce7",
   "metadata": {},
   "outputs": [
    {
     "data": {
      "text/plain": [
       "[('b', 5), ('a', 10), ('c', 15)]"
      ]
     },
     "execution_count": 46,
     "metadata": {},
     "output_type": "execute_result"
    }
   ],
   "source": [
    "def dictionnaire_vers_tuples(d, f):\n",
    "    return list(sorted(d.items(),key=f))\n",
    "\n",
    "dictionnaire_vers_tuples({'a': 10, 'b':5, 'c':15}, lambda x: x[1])"
   ]
  },
  {
   "cell_type": "markdown",
   "id": "eebca455",
   "metadata": {},
   "source": [
    "### **Challenge 4 : Regroupement par clé dans un dictionnaire**\n",
    "**Objectif** : Regrouper des tuples dans un dictionnaire selon leur première valeur.\n",
    "\n",
    "**Travail à faire** :  \n",
    "* Écrivez une fonction `regrouper_tuples` qui prend une liste de tuples (chaque tuple ayant au moins deux éléments : une clé et une valeur) et regroupe les valeurs associées à chaque clé dans un dictionnaire. \n",
    "* La fonction doit retourner un dictionnaire où chaque clé est la première valeur du tuple, et la valeur est une liste des secondes valeurs correspondantes. Testez avec une liste de tuples contenant des doublons de clés.  \n",
    "* Exemple d'entrée : `[('a', 1), ('b', 2), ('a', 3), ('c', 4)]` → Résultat : `{'a': [1, 3], 'b': [2], 'c': [4]}`.\n",
    "\n",
    "**Fonctions à utiliser** :  \n",
    "- `setdefault()` : Pour initialiser une liste vide pour chaque clé.  \n",
    "- `append()` : Pour ajouter les valeurs à la liste associée à une clé.  \n"
   ]
  },
  {
   "cell_type": "code",
   "execution_count": 51,
   "id": "e41f050a",
   "metadata": {},
   "outputs": [
    {
     "data": {
      "text/plain": [
       "{'a': [1, 3], 'b': [2], 'c': [4]}"
      ]
     },
     "execution_count": 51,
     "metadata": {},
     "output_type": "execute_result"
    }
   ],
   "source": [
    "def regrouper_tuples(L):\n",
    "    d = {}\n",
    "    for x in L:\n",
    "        d.setdefault(x[0],[])\n",
    "        d[x[0]].append(x[1])\n",
    "    return d\n",
    "\n",
    "L = [('a',1), ('b',2),('a',3),('c',4)]\n",
    "\n",
    "regrouper_tuples(L)\n",
    "\n",
    "\n"
   ]
  },
  {
   "cell_type": "markdown",
   "id": "006c74b5",
   "metadata": {},
   "source": [
    "### **Challenge 5 : Transformation de tuples avec fonction**\n",
    "**Objectif** : Appliquer une transformation à tous les éléments numériques d'une liste de tuples.\n",
    "\n",
    "**Travail à faire** :  \n",
    "* Écrivez une fonction `transformer_tuples` qui prend une liste de tuples contenant des nombres et une fonction de transformation (par exemple, `lambda x: x * 2`). \n",
    "* La fonction doit appliquer la transformation à chaque nombre dans les tuples et retourner une nouvelle liste de tuples.  \n",
    "* Testez avec deux fonctions de transformation différentes (par exemple, doubler et ajouter 1).  \n",
    "* Exemple d'entrée : `[(1, 2), (3, 4)]` avec `lambda x: x * 2` → Résultat : `[(2, 4), (6, 8)]`.\n",
    "\n",
    "**Fonctions à utiliser** :  \n",
    "- `map()` : Pour appliquer la transformation à chaque élément du tuple.  \n",
    "- `tuple()` : Pour convertir les résultats de `map` en tuples.  \n",
    "- `list()` : Pour construire la liste finale de tuples.  \n"
   ]
  },
  {
   "cell_type": "code",
   "execution_count": null,
   "id": "baf830d1",
   "metadata": {},
   "outputs": [
    {
     "data": {
      "text/plain": [
       "[(0, 1), (2, 3)]"
      ]
     },
     "execution_count": 76,
     "metadata": {},
     "output_type": "execute_result"
    }
   ],
   "source": [
    "def transformer_tuples(L,f):\n",
    "    return list(map(lambda t: tuple(map(f,t)),L))\n",
    "\n",
    "transformer_tuples([(1,2),(3,4)],lambda x:x-1)"
   ]
  },
  {
   "cell_type": "markdown",
   "id": "6c9aa7f3",
   "metadata": {},
   "source": [
    "### **Challenge 6 : Dictionnaire imbriqué à plat**\n",
    "**Objectif** : Convertir un dictionnaire imbriqué en une liste de tuples avec des clés concaténées.\n",
    "\n",
    "**Travail à faire** :  \n",
    "Écrivez une fonction `aplatir_dictionnaire` qui prend un dictionnaire potentiellement imbriqué et retourne une liste de tuples où chaque tuple contient une clé concaténée (séparée par des points) et la valeur correspondante. Testez avec un dictionnaire ayant au moins deux niveaux d'imbrication.  \n",
    "Exemple d'entrée : `{'a': 1, 'b': {'c': 2, 'd': 3}}` → Résultat : `[('a', 1), ('b.c', 2), ('b.d', 3)]`.\n",
    "\n",
    "**Fonctions à utiliser** :  \n",
    "- `items()` : Pour itérer sur les paires clé-valeur.  \n",
    "- `isinstance()` : Pour vérifier si une valeur est un dictionnaire (pour la récursivité).  \n",
    "- `append()` : Pour construire la liste de tuples.  \n"
   ]
  },
  {
   "cell_type": "code",
   "execution_count": 29,
   "id": "6d186a2c",
   "metadata": {},
   "outputs": [
    {
     "data": {
      "text/plain": [
       "[('a', 1), ('b.c', 2), ('b.d', 3)]"
      ]
     },
     "execution_count": 29,
     "metadata": {},
     "output_type": "execute_result"
    }
   ],
   "source": [
    "def aplatir_dictionnaire(d, prefix = ''):\n",
    "    result = []\n",
    "    for x,y in d.items():\n",
    "        x = f\"{prefix}.{x}\" if prefix else x\n",
    "        if isinstance(y,dict):\n",
    "            result.extend(aplatir_dictionnaire(y,x))\n",
    "        else:\n",
    "            result.append(tuple((x,y)))\n",
    "    return result\n",
    "d = {'a': 1, 'b': {'c': 2, 'd':3}}\n",
    "aplatir_dictionnaire(d)      \n",
    "        "
   ]
  },
  {
   "cell_type": "code",
   "execution_count": 84,
   "id": "92a46e6f",
   "metadata": {},
   "outputs": [
    {
     "data": {
      "text/plain": [
       "{'b': 3, 'c': 5, 'd': 3, 'a': 1}"
      ]
     },
     "execution_count": 84,
     "metadata": {},
     "output_type": "execute_result"
    }
   ],
   "source": [
    "def somme_dictionnaire(d1,d2):\n",
    "    for x1,y1 in d1.items():\n",
    "        if x1 in d2:\n",
    "           d2[x1] = d2[x1] + y1\n",
    "        else:\n",
    "            d2[x1] = d1[x1]\n",
    "    return d2\n",
    "\n",
    "d1 = {'a': 1, 'b':2, 'c': 3}\n",
    "d2 = {'b': 1, 'c': 2, 'd':3}\n",
    "\n",
    "somme_dictionnaire(d1,d2) \n"
   ]
  }
 ],
 "metadata": {
  "kernelspec": {
   "display_name": "Python 3",
   "language": "python",
   "name": "python3"
  },
  "language_info": {
   "codemirror_mode": {
    "name": "ipython",
    "version": 3
   },
   "file_extension": ".py",
   "mimetype": "text/x-python",
   "name": "python",
   "nbconvert_exporter": "python",
   "pygments_lexer": "ipython3",
   "version": "3.13.7"
  }
 },
 "nbformat": 4,
 "nbformat_minor": 5
}
