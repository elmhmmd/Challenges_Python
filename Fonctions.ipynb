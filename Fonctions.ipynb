{
 "cells": [
  {
   "cell_type": "markdown",
   "id": "21dfa672",
   "metadata": {},
   "source": [
    "<center>\n",
    "<H1><span style=\"text-align: center; font-weight: bold; color: #746bb3ff;\">Les Fonctions</span></H1>\n",
    "</center>"
   ]
  },
  {
   "cell_type": "markdown",
   "id": "4280dbf3",
   "metadata": {},
   "source": [
    "<H3><span style=\"font-weight: bold ; color: #19b7f1ff\">Les ressources: </span></H3> \n",
    "\n",
    "\n",
    "* [Python Functions](https://realpython.com/defining-your-own-python-function/#abstraction)\n",
    "* [Documentation Officielle de Python](https://docs.python.org/fr/3/tutorial/controlflow.html#defining-functions)"
   ]
  },
  {
   "cell_type": "markdown",
   "id": "e83d584f",
   "metadata": {},
   "source": [
    "<H3><span style=\"font-weight: bold; color: #1a8bcdff;\">Challenge 1 : Présentation personnalisé</span></H3>\n",
    "\n",
    "1. <span style=\"font-weight: bold; color: #e56922ff;\">Objectif</span> : </br>\n",
    "Réutiliser un programme existant (Challenge 2) en le structurant dans une fonction nommée horaire_sup.\n",
    "\n",
    "2. <span style=\"font-weight: bold; color: #e56922ff;\">Travail à faire</span>:</br>\n",
    "Réécris le programme du Challenge 2 dans une fonction appelée horaire_sup."
   ]
  },
  {
   "cell_type": "code",
   "execution_count": 3,
   "id": "b3439d44",
   "metadata": {},
   "outputs": [
    {
     "name": "stdout",
     "output_type": "stream",
     "text": [
      "Veuillez saisir votre nom, salaire horaire et nombre d'heures travailler respectivement\n"
     ]
    },
    {
     "data": {
      "text/plain": [
       "200"
      ]
     },
     "execution_count": 3,
     "metadata": {},
     "output_type": "execute_result"
    }
   ],
   "source": [
    "def horaire_sup(salaire_h, h_travailler):\n",
    "    if (heures_travailler > 40):\n",
    "        overtime = (heures_travailler-40) * 1.5 * salaire_horaire\n",
    "        salaire = 40 * salaire_horaire\n",
    "        salaire_total = salaire + overtime\n",
    "    else:\n",
    "        salaire_total = salaire_horaire * heures_travailler\n",
    "\n",
    "    return salaire_total\n",
    "\n",
    "print(\"Veuillez saisir votre nom, salaire horaire et nombre d'heures travailler respectivement\")\n",
    "nom = input()\n",
    "salaire_horaire = int(input())\n",
    "heures_travailler = int(input())\n",
    "horaire_sup(salaire_horaire, heures_travailler)\n",
    "\n"
   ]
  },
  {
   "cell_type": "markdown",
   "id": "77631c7d",
   "metadata": {},
   "source": [
    "<H3><span style=\"font-weight: bold; color: #1a8bcdff;\">Challenge 2 : Fonction calculation() – somme et différence</span></H3>\n",
    "\n",
    "1. <span style=\"font-weight: bold; color: #e56922ff;\">Objectif</span> : </br>\n",
    "Apprendre à écrire une fonction avec plusieurs paramètres et plusieurs valeurs de retour.\n",
    "\n",
    "2. <span style=\"font-weight: bold; color: #e56922ff;\">Travail à faire</span>:</br>\n",
    "Écris une fonction calculation() qui prend deux arguments et calcule leur somme ainsi que leur différence. La fonction doit ensuite retourner les deux résultats dans une seule instruction return."
   ]
  },
  {
   "cell_type": "code",
   "execution_count": 11,
   "id": "323a8b4a",
   "metadata": {},
   "outputs": [
    {
     "name": "stdout",
     "output_type": "stream",
     "text": [
      "Veuillez saisir deux nombres\n"
     ]
    },
    {
     "data": {
      "text/plain": [
       "'the sum is 5 and the difference is -1'"
      ]
     },
     "execution_count": 11,
     "metadata": {},
     "output_type": "execute_result"
    }
   ],
   "source": [
    "def sumndifference(x,y):\n",
    "    return f\"the sum is {x+y} and the difference is {x-y}\"\n",
    "\n",
    "print(\"Veuillez saisir deux nombres\")\n",
    "x = int(input())\n",
    "y = int(input())\n",
    "sumndifference(x,y)"
   ]
  },
  {
   "cell_type": "markdown",
   "id": "c2081304",
   "metadata": {},
   "source": [
    "<H3><span style=\"font-weight: bold; color: #1a8bcdff;\">Challenge 3 : Mini-projets algorithmiques regroupés</span></H3>\n",
    "\n",
    "1. <span style=\"font-weight: bold; color: #e56922ff;\">Objectif</span> : </br>\n",
    "Développer plusieurs petites fonctions indépendantes, chacune ciblant une compétence précise\n",
    "\n",
    "2. <span style=\"font-weight: bold; color: #e56922ff;\">Travail à faire</span>:</br>\n",
    "- Demander à l’utilisateur de saisir un nombre entier n et afficher la factorielle de ce nombre (n!).\n",
    "- Demander à l’utilisateur un nombre entier m et afficher sa table de multiplication de 1 à 10.\n",
    "- Demander à l’utilisateur un nombre entier L et indiquer s’il s’agit d’un carré parfait.\n",
    "- Demander une chaîne de caractères à l’utilisateur, puis afficher chaque caractère un par un.\n",
    "- Demander une phrase à l’utilisateur et afficher le mot le plus long de cette phrase.\n",
    "- Demander une chaîne de caractères Ch et afficher le nombre d’occurrences de chaque caractère. Exemple : Pour Ch = “artificial intelligence developer” \n",
    "- Le programme doit afficher : Le caractère \"i\" figure 5 fois dans la chaîne Ch."
   ]
  },
  {
   "cell_type": "code",
   "execution_count": 44,
   "id": "a06adf5c",
   "metadata": {},
   "outputs": [
    {
     "name": "stdout",
     "output_type": "stream",
     "text": [
      "Veuillez saisir une chaine de caracteres\n",
      "a\n",
      "r\n",
      "t\n",
      "i\n",
      "f\n",
      "i\n",
      "c\n",
      "i\n",
      "a\n",
      "l\n",
      " \n",
      "i\n",
      "n\n",
      "t\n",
      "e\n",
      "l\n",
      "l\n",
      "i\n",
      "g\n",
      "e\n",
      "n\n",
      "c\n",
      "e\n",
      " \n",
      "d\n",
      "e\n",
      "v\n",
      "e\n",
      "l\n",
      "o\n",
      "p\n",
      "e\n",
      "r\n",
      "le caractere \"a\" figure 2 fois dans la chaine Ch\n",
      "le caractere \"r\" figure 2 fois dans la chaine Ch\n",
      "le caractere \"t\" figure 2 fois dans la chaine Ch\n",
      "le caractere \"i\" figure 5 fois dans la chaine Ch\n",
      "le caractere \"f\" figure 1 fois dans la chaine Ch\n",
      "le caractere \"c\" figure 2 fois dans la chaine Ch\n",
      "le caractere \"l\" figure 4 fois dans la chaine Ch\n",
      "le caractere \" \" figure 2 fois dans la chaine Ch\n",
      "le caractere \"n\" figure 2 fois dans la chaine Ch\n",
      "le caractere \"e\" figure 6 fois dans la chaine Ch\n",
      "le caractere \"g\" figure 1 fois dans la chaine Ch\n",
      "le caractere \"d\" figure 1 fois dans la chaine Ch\n",
      "le caractere \"v\" figure 1 fois dans la chaine Ch\n",
      "le caractere \"o\" figure 1 fois dans la chaine Ch\n",
      "le caractere \"p\" figure 1 fois dans la chaine Ch\n"
     ]
    }
   ],
   "source": [
    "import math\n",
    "\n",
    "def factorial(n):\n",
    "    i=1\n",
    "    s=1\n",
    "    while i<=n:\n",
    "        s*=i\n",
    "        i+=1\n",
    "    return s\n",
    "\n",
    "def multiplication_table(m):\n",
    "    return f\"\"\"{m}*1 = {m*1}\n",
    "               {m}*2 = {m*2}\n",
    "               {m}*3 = {m*3}\n",
    "               {m}*4 = {m*4}\n",
    "               {m}*5 = {m*5}\n",
    "               {m}*6 = {m*6}\n",
    "               {m}*7 = {m*7}\n",
    "               {m}*8 = {m*8}\n",
    "               {m}*9 = {m*9}\n",
    "               {m}*10 = {m*10}\"\"\"\n",
    "\n",
    "def perfect_square(L):\n",
    "    if math.sqrt(L) == int(math.sqrt(L)):\n",
    "        return True\n",
    "    else:\n",
    "        return False\n",
    "\n",
    "def chbych(ch):\n",
    "    for x in ch:\n",
    "        print(x)\n",
    "\n",
    "def longest_word(ch):\n",
    "  words = ch.split()\n",
    "  i = \"\"\n",
    "  for x in words:\n",
    "    for y in words:\n",
    "        if len(x)>len(y):\n",
    "            i=x\n",
    "  return i\n",
    "\n",
    "def noccurences(ch):\n",
    "   s = ch.lower()\n",
    "   chars_count = {}\n",
    "   for x in s:\n",
    "       chars_count[x] = s.count(x)\n",
    "   for x in chars_count:\n",
    "        print(f\"le caractere \\\"{x}\\\" figure {chars_count[x]} fois dans la chaine Ch\")\n",
    "\n",
    "\n",
    "'''   \n",
    "print(\"Veuillez saisir un entier\")\n",
    "x = int(input())\n",
    "\n",
    "factorial(x)\n",
    "multiplication_table(x)\n",
    "perfect_square(x)\n",
    "'''\n",
    "\n",
    "print(\"Veuillez saisir une chaine de caracteres\")\n",
    "ch = input()\n",
    "chbych(ch)\n",
    "longest_word(ch)\n",
    "noccurences(ch)\n",
    "\n",
    "\n"
   ]
  }
 ],
 "metadata": {
  "kernelspec": {
   "display_name": "Python 3",
   "language": "python",
   "name": "python3"
  },
  "language_info": {
   "codemirror_mode": {
    "name": "ipython",
    "version": 3
   },
   "file_extension": ".py",
   "mimetype": "text/x-python",
   "name": "python",
   "nbconvert_exporter": "python",
   "pygments_lexer": "ipython3",
   "version": "3.13.7"
  }
 },
 "nbformat": 4,
 "nbformat_minor": 5
}
