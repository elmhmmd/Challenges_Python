{
 "cells": [
  {
   "cell_type": "markdown",
   "id": "240f7e79",
   "metadata": {},
   "source": [
    "# Manual Implementation of functions"
   ]
  },
  {
   "cell_type": "markdown",
   "id": "1244a655",
   "metadata": {},
   "source": [
    "## length:"
   ]
  },
  {
   "cell_type": "code",
   "execution_count": 3,
   "id": "39816a26",
   "metadata": {},
   "outputs": [
    {
     "data": {
      "text/plain": [
       "22"
      ]
     },
     "execution_count": 3,
     "metadata": {},
     "output_type": "execute_result"
    }
   ],
   "source": [
    "s = \"sometimes I think that\"\n",
    "def length(s):\n",
    "    count = 0\n",
    "    for _ in s:\n",
    "        count += 1\n",
    "    return count\n",
    "length(s)"
   ]
  },
  {
   "cell_type": "markdown",
   "id": "32aa28b3",
   "metadata": {},
   "source": [
    "## sort:"
   ]
  },
  {
   "cell_type": "code",
   "execution_count": 1,
   "id": "5ac3dabb",
   "metadata": {},
   "outputs": [
    {
     "data": {
      "text/plain": [
       "['a', 'd', 'r', 'ud', 'x', 'y', 'z']"
      ]
     },
     "execution_count": 1,
     "metadata": {},
     "output_type": "execute_result"
    }
   ],
   "source": [
    "L = [\"a\", \"z\" , \"r\", \"d\", \"x\", \"y\", \"ud\"]\n",
    "def simple_sort(L):\n",
    "    n = len(L)\n",
    "    for x in range(0,n-1):\n",
    "        for y in range(1,n):\n",
    "            if (L[y-1]>L[y]):\n",
    "                L[y-1],L[y] = L[y],L[y-1]\n",
    "    return L\n",
    "\n",
    "simple_sort(L)"
   ]
  },
  {
   "cell_type": "markdown",
   "id": "faa03d6e",
   "metadata": {},
   "source": [
    "## Split:"
   ]
  },
  {
   "cell_type": "code",
   "execution_count": 29,
   "id": "b96676d8",
   "metadata": {},
   "outputs": [
    {
     "data": {
      "text/plain": [
       "['this', 'is', 'a']"
      ]
     },
     "execution_count": 29,
     "metadata": {},
     "output_type": "execute_result"
    }
   ],
   "source": [
    "def manual_split(S):\n",
    "    n = len(S)\n",
    "    buff = \"\"\n",
    "    L = []\n",
    "    for x in S:\n",
    "        if x != \" \":\n",
    "            buff += x\n",
    "        if x == \" \":\n",
    "            L.append(buff)\n",
    "            buff = \"\"\n",
    "    return L\n",
    "S = \"this is a phrase\"\n",
    "manual_split(S)\n",
    "        "
   ]
  },
  {
   "cell_type": "markdown",
   "id": "9dadcfa7",
   "metadata": {},
   "source": [
    "## counting the number of occurences of an element in a string"
   ]
  },
  {
   "cell_type": "code",
   "execution_count": 31,
   "id": "4a808104",
   "metadata": {},
   "outputs": [
    {
     "data": {
      "text/plain": [
       "5"
      ]
     },
     "execution_count": 31,
     "metadata": {},
     "output_type": "execute_result"
    }
   ],
   "source": [
    "def noccurencese(s,e):\n",
    "    count = 0\n",
    "    for x in s:\n",
    "        if x == e:\n",
    "            count+=1\n",
    "    return count\n",
    "\n",
    "s = \"artificial intelligence developer\"\n",
    "e = 'i'\n",
    "noccurencese(s,e)\n"
   ]
  },
  {
   "cell_type": "code",
   "execution_count": null,
   "id": "dde08319",
   "metadata": {},
   "outputs": [],
   "source": []
  }
 ],
 "metadata": {
  "kernelspec": {
   "display_name": "Python 3",
   "language": "python",
   "name": "python3"
  },
  "language_info": {
   "codemirror_mode": {
    "name": "ipython",
    "version": 3
   },
   "file_extension": ".py",
   "mimetype": "text/x-python",
   "name": "python",
   "nbconvert_exporter": "python",
   "pygments_lexer": "ipython3",
   "version": "3.13.7"
  }
 },
 "nbformat": 4,
 "nbformat_minor": 5
}
