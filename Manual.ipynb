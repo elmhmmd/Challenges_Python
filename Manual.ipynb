{
 "cells": [
  {
   "cell_type": "markdown",
   "id": "240f7e79",
   "metadata": {},
   "source": [
    "# Manual Implementation of functions"
   ]
  },
  {
   "cell_type": "markdown",
   "id": "1244a655",
   "metadata": {},
   "source": [
    "## sort"
   ]
  },
  {
   "cell_type": "code",
   "execution_count": null,
   "id": "39816a26",
   "metadata": {
    "vscode": {
     "languageId": "plaintext"
    }
   },
   "outputs": [],
   "source": []
  }
 ],
 "metadata": {
  "language_info": {
   "name": "python"
  }
 },
 "nbformat": 4,
 "nbformat_minor": 5
}
